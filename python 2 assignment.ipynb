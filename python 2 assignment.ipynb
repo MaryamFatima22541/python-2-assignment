{
 "cells": [
  {
   "cell_type": "code",
   "execution_count": 1,
   "id": "f3efe21d-90f4-4de4-b81e-fa172d55a442",
   "metadata": {},
   "outputs": [
    {
     "name": "stdout",
     "output_type": "stream",
     "text": [
      "not equal\n",
      "A\n"
     ]
    }
   ],
   "source": [
    "a=2\n",
    "b=2\n",
    "if a==b:\n",
    "    a=3\n",
    "    b=4\n",
    "    if a==b:\n",
    "     print(\"equal\")\n",
    "    else:\n",
    "      print(\"not equal\")\n",
    "print(\"A\")"
   ]
  },
  {
   "cell_type": "code",
   "execution_count": 2,
   "id": "3d104f63-5bde-48e6-ac8a-9a3b91b5f79c",
   "metadata": {},
   "outputs": [
    {
     "name": "stdout",
     "output_type": "stream",
     "text": [
      "not equal\n"
     ]
    }
   ],
   "source": [
    "a=2\n",
    "b=2\n",
    "if a==b:\n",
    "    a=3\n",
    "    b=4\n",
    "    if a==b:\n",
    "     print(\"equal\")\n",
    "    else:\n",
    "      print(\"not equal\")"
   ]
  },
  {
   "cell_type": "code",
   "execution_count": 3,
   "id": "a29c02a5-1e3b-4234-be22-ea1e6e88424f",
   "metadata": {},
   "outputs": [
    {
     "name": "stdout",
     "output_type": "stream",
     "text": [
      "0\n",
      "1\n",
      "2\n",
      "3\n",
      "4\n",
      "5\n",
      "6\n",
      "7\n",
      "8\n",
      "9\n"
     ]
    }
   ],
   "source": [
    "x='p'\n",
    "for x in range (10):\n",
    "    print(x)"
   ]
  },
  {
   "cell_type": "code",
   "execution_count": 4,
   "id": "8fd04a26-75e6-41da-a082-0800072c9dc7",
   "metadata": {},
   "outputs": [
    {
     "name": "stdout",
     "output_type": "stream",
     "text": [
      "x\n",
      "x\n",
      "x\n",
      "x\n",
      "x\n",
      "x\n",
      "x\n",
      "x\n",
      "x\n",
      "x\n"
     ]
    }
   ],
   "source": [
    "x='p'\n",
    "for x in range (10):\n",
    "    print(\"x\")"
   ]
  },
  {
   "cell_type": "code",
   "execution_count": 7,
   "id": "0162d136-698e-4a67-87ac-030af773ac18",
   "metadata": {},
   "outputs": [
    {
     "name": "stdout",
     "output_type": "stream",
     "text": [
      "Divided by 5\n"
     ]
    }
   ],
   "source": [
    "a=10\n",
    "b=5\n",
    "if(a/b):\n",
    " print(\"Divided by 5\")\n",
    "else:\n",
    " print(\"Not divided by 5 \")"
   ]
  },
  {
   "cell_type": "code",
   "execution_count": 6,
   "id": "143a830c-685e-4d95-8f1d-838dceafc82c",
   "metadata": {},
   "outputs": [
    {
     "name": "stdout",
     "output_type": "stream",
     "text": [
      "Greater than\n"
     ]
    }
   ],
   "source": [
    "a=10\n",
    "b=5\n",
    "if(a>b):\n",
    " print(\"Greater than\")\n",
    "else:\n",
    " print(\"Less than\")"
   ]
  },
  {
   "cell_type": "code",
   "execution_count": null,
   "id": "c6f11486-9f4b-466e-bb93-d784e56cf24d",
   "metadata": {},
   "outputs": [],
   "source": []
  }
 ],
 "metadata": {
  "kernelspec": {
   "display_name": "Python 3 (ipykernel)",
   "language": "python",
   "name": "python3"
  },
  "language_info": {
   "codemirror_mode": {
    "name": "ipython",
    "version": 3
   },
   "file_extension": ".py",
   "mimetype": "text/x-python",
   "name": "python",
   "nbconvert_exporter": "python",
   "pygments_lexer": "ipython3",
   "version": "3.13.2"
  }
 },
 "nbformat": 4,
 "nbformat_minor": 5
}
